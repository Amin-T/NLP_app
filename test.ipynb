{
 "metadata": {
  "language_info": {
   "codemirror_mode": {
    "name": "ipython",
    "version": 3
   },
   "file_extension": ".py",
   "mimetype": "text/x-python",
   "name": "python",
   "nbconvert_exporter": "python",
   "pygments_lexer": "ipython3",
   "version": "3.8.5"
  },
  "orig_nbformat": 4,
  "kernelspec": {
   "name": "python3",
   "display_name": "Python 3.8.5 64-bit ('venv': venv)"
  },
  "interpreter": {
   "hash": "6e9fa4d45349a95c7accd434e28d3060f9ae889cdba79af1a8980af7c00019f2"
  }
 },
 "nbformat": 4,
 "nbformat_minor": 2,
 "cells": [
  {
   "cell_type": "markdown",
   "source": [
    "Run the below cells to read and tag multiple HTML files in a folder"
   ],
   "metadata": {}
  },
  {
   "cell_type": "code",
   "execution_count": 1,
   "source": [
    "from HTML_tagger import HTMLtagger\n",
    "import glob\n",
    "import json\n",
    "from dicttoxml import dicttoxml"
   ],
   "outputs": [],
   "metadata": {}
  },
  {
   "cell_type": "code",
   "execution_count": 5,
   "source": [
    "folder = 'HTML source files'\n",
    "resources = 'Taxonomy files'\n",
    "\n",
    "folder_content = glob.glob(folder + '/*')\n",
    "\n",
    "# all_files = glob.glob(folder + '/*.html')\n",
    "# for f in glob.glob(folder + '/*'):\n",
    "#     all_files.extend(glob.glob(f+'/*.html'))"
   ],
   "outputs": [],
   "metadata": {}
  },
  {
   "cell_type": "code",
   "execution_count": 3,
   "source": [
    "tagger = HTMLtagger(resources='xlsx')\n",
    "tagger.LoadTaxonomy()"
   ],
   "outputs": [
    {
     "output_type": "stream",
     "name": "stdout",
     "text": [
      "Taxonomy excel file downloaded.\n"
     ]
    }
   ],
   "metadata": {}
  },
  {
   "cell_type": "code",
   "execution_count": 6,
   "source": [
    "for f in folder_content:\n",
    "    html_file = glob.glob(f+'/*.html')[0]\n",
    "    xbrl_file = glob.glob(f+'/*/*10[qk].htm')[0]\n",
    "\n",
    "    tagger.LoadHTML(html_file)\n",
    "    Tags = tagger.GetTags(comprehensive=True, xbrl_path=xbrl_file)\n",
    "\n",
    "    # Generate output file name\n",
    "    dir_split = html_file.split('/')\n",
    "    file_name = dir_split[-2]\n",
    "\n",
    "    # Save the tags as json file\n",
    "    with open('Output_files_20210804/' + file_name+'.json', \"w\") as f:\n",
    "        json.dump(Tags, f)\n",
    "\n",
    "    # Save the tags as xml file\n",
    "    xml = dicttoxml(Tags)\n",
    "    with open('Output_files_20210804/' + file_name+'.xml', \"w\") as f:\n",
    "        f.write(xml.decode())\n",
    "\n",
    "    print(f'Output for {file_name} saved.')"
   ],
   "outputs": [
    {
     "output_type": "stream",
     "name": "stdout",
     "text": [
      "HTML source files/MBIA/Form 10-K current.html loaded.\n",
      "Output for MBIA saved.\n",
      "HTML source files/United bancshares/Current 10-K.html loaded.\n",
      "Output for United bancshares saved.\n",
      "HTML source files/CVB/10-Q Current.html loaded.\n",
      "Output for CVB saved.\n",
      "HTML source files/First Financial/10-K Current.html loaded.\n",
      "Output for First Financial saved.\n",
      "HTML source files/Marcus/10-Q current.html loaded.\n",
      "Output for Marcus saved.\n",
      "HTML source files/Goldman Sachs/Current 10-K.html loaded.\n",
      "Output for Goldman Sachs saved.\n",
      "HTML source files/Teradyne/10-Q Current.html loaded.\n",
      "Output for Teradyne saved.\n",
      "HTML source files/Teva/10-Q Current.html loaded.\n",
      "Output for Teva saved.\n",
      "HTML source files/Blackstone/10-K current.html loaded.\n",
      "Output for Blackstone saved.\n",
      "HTML source files/US Bancorp/10-Q Current.html loaded.\n",
      "Output for US Bancorp saved.\n"
     ]
    }
   ],
   "metadata": {}
  },
  {
   "cell_type": "code",
   "execution_count": null,
   "source": [],
   "outputs": [],
   "metadata": {}
  }
 ]
}