{
 "metadata": {
  "language_info": {
   "codemirror_mode": {
    "name": "ipython",
    "version": 3
   },
   "file_extension": ".py",
   "mimetype": "text/x-python",
   "name": "python",
   "nbconvert_exporter": "python",
   "pygments_lexer": "ipython3",
   "version": "3.8.5"
  },
  "orig_nbformat": 4,
  "kernelspec": {
   "name": "python3",
   "display_name": "Python 3.8.5 64-bit ('venv': venv)"
  },
  "interpreter": {
   "hash": "6e9fa4d45349a95c7accd434e28d3060f9ae889cdba79af1a8980af7c00019f2"
  }
 },
 "nbformat": 4,
 "nbformat_minor": 2,
 "cells": [
  {
   "source": [
    "Run the below cells to read and tag multiple HTML files in a folder"
   ],
   "cell_type": "markdown",
   "metadata": {}
  },
  {
   "cell_type": "code",
   "execution_count": 1,
   "metadata": {},
   "outputs": [],
   "source": [
    "from HTML_tagger import HTMLtagger\n",
    "import glob\n",
    "import json"
   ]
  },
  {
   "cell_type": "code",
   "execution_count": 2,
   "metadata": {},
   "outputs": [],
   "source": [
    "folder = 'HTML source files'\n",
    "resources = 'Taxonomy files'"
   ]
  },
  {
   "cell_type": "code",
   "execution_count": 3,
   "metadata": {},
   "outputs": [],
   "source": [
    "tagger = HTMLtagger(resources=resources)\n",
    "tagger.LoadTaxonomy()"
   ]
  },
  {
   "cell_type": "code",
   "execution_count": 6,
   "metadata": {},
   "outputs": [],
   "source": [
    "all_files = glob.glob(folder + '/*.html')\n",
    "for file in all_files:\n",
    "    tagger.LoadHTML(file)\n",
    "    Tags = tagger.GetTags()\n",
    "\n",
    "    # Save the tags a json file\n",
    "    file_name = file.split('/')[-1].split('.')[0]+'.json'\n",
    "    with open(file_name, \"w\") as f:\n",
    "        json.dump(Tags, f)"
   ]
  },
  {
   "cell_type": "code",
   "execution_count": null,
   "metadata": {},
   "outputs": [],
   "source": []
  }
 ]
}