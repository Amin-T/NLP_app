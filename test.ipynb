{
 "metadata": {
  "language_info": {
   "codemirror_mode": {
    "name": "ipython",
    "version": 3
   },
   "file_extension": ".py",
   "mimetype": "text/x-python",
   "name": "python",
   "nbconvert_exporter": "python",
   "pygments_lexer": "ipython3",
   "version": "3.8.5"
  },
  "orig_nbformat": 4,
  "kernelspec": {
   "name": "python3",
   "display_name": "Python 3.8.5 64-bit ('venv': venv)"
  },
  "interpreter": {
   "hash": "6e9fa4d45349a95c7accd434e28d3060f9ae889cdba79af1a8980af7c00019f2"
  }
 },
 "nbformat": 4,
 "nbformat_minor": 2,
 "cells": [
  {
   "cell_type": "markdown",
   "source": [
    "Run the below cells to read and tag multiple HTML files in a folder"
   ],
   "metadata": {}
  },
  {
   "cell_type": "code",
   "execution_count": 1,
   "source": [
    "from HTML_tagger import HTMLtagger\n",
    "import glob\n",
    "import json\n",
    "from dicttoxml import dicttoxml"
   ],
   "outputs": [],
   "metadata": {}
  },
  {
   "cell_type": "code",
   "execution_count": 2,
   "source": [
    "folder = 'HTML source files'\n",
    "resources = 'Taxonomy files'"
   ],
   "outputs": [],
   "metadata": {}
  },
  {
   "cell_type": "code",
   "execution_count": 3,
   "source": [
    "tagger = HTMLtagger(resources='xlsx')\n",
    "tagger.LoadTaxonomy()"
   ],
   "outputs": [],
   "metadata": {}
  },
  {
   "cell_type": "code",
   "execution_count": 4,
   "source": [
    "all_files = glob.glob(folder + '/*.html')\n",
    "for f in glob.glob(folder + '/*'):\n",
    "    all_files.extend(glob.glob(f+'/*.html'))"
   ],
   "outputs": [],
   "metadata": {}
  },
  {
   "cell_type": "code",
   "execution_count": 5,
   "source": [
    "for file in all_files:\n",
    "    tagger.LoadHTML(file)\n",
    "    Tags = tagger.GetTags()\n",
    "\n",
    "    # Generate output file name\n",
    "    dir_split = file.split('/')\n",
    "    if len(dir_split)<=2:\n",
    "        file_name = dir_split[-1].split('.')[0]\n",
    "    else:\n",
    "        file_name = dir_split[-2] + ' ' + dir_split[-1].split('.')[0]\n",
    "\n",
    "    # Save the tags as json file\n",
    "    with open('Output/' + file_name+'.json', \"w\") as f:\n",
    "        json.dump(Tags, f)\n",
    "\n",
    "    # Save the tags as xml file\n",
    "    xml = dicttoxml(Tags)\n",
    "    with open('Output/' + file_name+'.xml', \"w\") as f:\n",
    "        f.write(xml.decode())"
   ],
   "outputs": [],
   "metadata": {}
  },
  {
   "cell_type": "code",
   "execution_count": null,
   "source": [],
   "outputs": [],
   "metadata": {}
  }
 ]
}