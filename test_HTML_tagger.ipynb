{
 "metadata": {
  "language_info": {
   "codemirror_mode": {
    "name": "ipython",
    "version": 3
   },
   "file_extension": ".py",
   "mimetype": "text/x-python",
   "name": "python",
   "nbconvert_exporter": "python",
   "pygments_lexer": "ipython3",
   "version": "3.8.5"
  },
  "orig_nbformat": 4,
  "kernelspec": {
   "name": "python3",
   "display_name": "Python 3.8.5 64-bit ('venv': venv)"
  },
  "interpreter": {
   "hash": "6e9fa4d45349a95c7accd434e28d3060f9ae889cdba79af1a8980af7c00019f2"
  }
 },
 "nbformat": 4,
 "nbformat_minor": 2,
 "cells": [
  {
   "cell_type": "markdown",
   "source": [
    "This file is to run and test the Lookup_tagger function.\n",
    "\n",
    "Run the below cells to read and tag multiple HTML files in a folder."
   ],
   "metadata": {}
  },
  {
   "cell_type": "code",
   "execution_count": 1,
   "source": [
    "# Import libraries\n",
    "from Lookup_tagger import LookupTagger\n",
    "import glob\n",
    "import json\n",
    "from dicttoxml import dicttoxml"
   ],
   "outputs": [],
   "metadata": {}
  },
  {
   "cell_type": "code",
   "execution_count": 2,
   "source": [
    "# Specify the folder containing the HTML files and their previous XBRLs\n",
    "folder = 'HTML source files'\n",
    "\n",
    "folder_content = glob.glob(folder + '/*')"
   ],
   "outputs": [],
   "metadata": {}
  },
  {
   "cell_type": "code",
   "execution_count": 3,
   "source": [
    "# Initialize the LookupTagger\n",
    "tagger = LookupTagger(resources='xlsx')\n",
    "\n",
    "selected_facts=['EntityRegistrantName', 'EntityAddressAddressLine1',\n",
    "                'EntityTaxIdentificationNumber', 'EntityIncorporationStateCountryCode']"
   ],
   "outputs": [
    {
     "output_type": "stream",
     "name": "stderr",
     "text": [
      "/home/amin/NLP_app/Lookup_tagger.py:198: FutureWarning: The default value of regex will change from True to False in a future version.\n",
      "  Elements_df.loc[:, 'label'] = Elements_df['label'].str.replace(pattern, '').tolist()\n"
     ]
    },
    {
     "output_type": "stream",
     "name": "stdout",
     "text": [
      "Taxonomy excel file downloaded.\n"
     ]
    }
   ],
   "metadata": {}
  },
  {
   "cell_type": "code",
   "execution_count": 11,
   "source": [
    "for f in folder_content:\n",
    "    # Specify the files path for every HTML and XBRL file in the folder\n",
    "    html_file = glob.glob(f+'/*.html')[0]\n",
    "    xbrl_file = glob.glob(f+'/*/*10[qk].htm')[0]\n",
    "\n",
    "    # Create tags\n",
    "    Tags = tagger.GetTags(html_FilePath=html_file, xbrl_FilePath=xbrl_file, selected_facts=selected_facts)\n",
    "\n",
    "    # Generate output file name\n",
    "    dir_split = html_file.split('/')\n",
    "    file_name = dir_split[-2]\n",
    "\n",
    "    # Save the tags as json file\n",
    "    with open('Output_files_20210804/' + file_name+'.json', \"w\") as f:\n",
    "        json.dump(Tags, f)\n",
    "\n",
    "    # Save the tags as xml file\n",
    "    xml = dicttoxml(Tags)\n",
    "    with open('Output_files_20210804/' + file_name+'.xml', \"w\") as f:\n",
    "        f.write(xml.decode())\n",
    "\n",
    "    print(f'Output for {file_name} saved.')"
   ],
   "outputs": [
    {
     "output_type": "stream",
     "name": "stdout",
     "text": [
      "File \"HTML source files/US Bancorp - 10-Q2/US Bancorp previous-xbrl/d137164d10q.htm\" is loaded.\n",
      "Firm specific lookup dictionary created from the previously filed xbrl report\n",
      "File \"HTML source files/US Bancorp - 10-Q2/US Bancorp - 10-Q2-June 2021.html\" is loaded.\n",
      "Output for US Bancorp - 10-Q2 saved.\n",
      "File \"HTML source files/The Blackstone Group LP  - 10-K/Blackstone previous-xbrl/d844019d10k.htm\" is loaded.\n",
      "Firm specific lookup dictionary created from the previously filed xbrl report\n",
      "File \"HTML source files/The Blackstone Group LP  - 10-K/The Blackstone Group LP  - 10-K December 2020.html\" is loaded.\n",
      "Output for The Blackstone Group LP  - 10-K saved.\n",
      "File \"HTML source files/MBIA/MBIA-xbrl/d833769d10k.htm\" is loaded.\n",
      "Firm specific lookup dictionary created from the previously filed xbrl report\n",
      "File \"HTML source files/MBIA/Form 10-K current.html\" is loaded.\n",
      "Output for MBIA saved.\n",
      "File \"HTML source files/United bancshares/United bancshares previous 10K XBRL/d837039d10k.htm\" is loaded.\n",
      "Firm specific lookup dictionary created from the previously filed xbrl report\n",
      "File \"HTML source files/United bancshares/Current 10-K.html\" is loaded.\n",
      "Output for United bancshares saved.\n",
      "File \"HTML source files/CVB/CVB Previous-xbrl/d62026d10q.htm\" is loaded.\n",
      "Firm specific lookup dictionary created from the previously filed xbrl report\n",
      "File \"HTML source files/CVB/10-Q Current.html\" is loaded.\n",
      "Output for CVB saved.\n",
      "File \"HTML source files/First Financial/0001193125-20-037760-xbrl/d876138d10k.htm\" is loaded.\n",
      "Firm specific lookup dictionary created from the previously filed xbrl report\n",
      "File \"HTML source files/First Financial/10-K Current.html\" is loaded.\n",
      "Output for First Financial saved.\n",
      "File \"HTML source files/Marcus/Marcus previous-xbrl/d76114d10q.htm\" is loaded.\n",
      "Firm specific lookup dictionary created from the previously filed xbrl report\n",
      "File \"HTML source files/Marcus/10-Q current.html\" is loaded.\n",
      "Output for Marcus saved.\n",
      "File \"HTML source files/Goldman Sachs/Goldman Sachs previous XBRL/d826673d10k.htm\" is loaded.\n",
      "Firm specific lookup dictionary created from the previously filed xbrl report\n",
      "File \"HTML source files/Goldman Sachs/Current 10-K.html\" is loaded.\n",
      "Output for Goldman Sachs saved.\n",
      "File \"HTML source files/Teradyne/Teradyne Previous-xbrl/d58367d10q.htm\" is loaded.\n",
      "Firm specific lookup dictionary created from the previously filed xbrl report\n",
      "File \"HTML source files/Teradyne/10-Q Current.html\" is loaded.\n",
      "Output for Teradyne saved.\n",
      "File \"HTML source files/Teva/Teva previous-xbrl/d26234d10q.htm\" is loaded.\n",
      "Firm specific lookup dictionary created from the previously filed xbrl report\n",
      "File \"HTML source files/Teva/10-Q Current.html\" is loaded.\n",
      "Output for Teva saved.\n",
      "File \"HTML source files/Blackstone/Blackstone previous-xbrl/d844019d10k.htm\" is loaded.\n",
      "Firm specific lookup dictionary created from the previously filed xbrl report\n",
      "File \"HTML source files/Blackstone/10-K current.html\" is loaded.\n",
      "Output for Blackstone saved.\n",
      "File \"HTML source files/US Bancorp/US Bancorp previous-xbrl/d137164d10q.htm\" is loaded.\n",
      "Firm specific lookup dictionary created from the previously filed xbrl report\n",
      "File \"HTML source files/US Bancorp/10-Q Current.html\" is loaded.\n",
      "Output for US Bancorp saved.\n"
     ]
    }
   ],
   "metadata": {}
  },
  {
   "cell_type": "code",
   "execution_count": null,
   "source": [],
   "outputs": [],
   "metadata": {}
  }
 ]
}